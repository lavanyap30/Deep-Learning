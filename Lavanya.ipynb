{
  "nbformat": 4,
  "nbformat_minor": 0,
  "metadata": {
    "colab": {
      "provenance": [],
      "collapsed_sections": [],
      "toc_visible": true
    },
    "kernelspec": {
      "name": "python3",
      "display_name": "Python 3"
    },
    "accelerator": "GPU"
  },
  "cells": [
    {
      "cell_type": "code",
      "metadata": {
        "id": "APq3E1QXn67g",
        "colab": {
          "base_uri": "https://localhost:8080/"
        },
        "outputId": "16da03c4-1f89-4ab1-eb8c-3658dfe3070f"
      },
      "source": [
        "# Mount Google Drive\n",
        "\n",
        "from google.colab import drive\n",
        "drive.mount('/content/drive/')"
      ],
      "execution_count": null,
      "outputs": [
        {
          "output_type": "stream",
          "text": [
            "Mounted at /content/drive/\n"
          ],
          "name": "stdout"
        }
      ]
    },
    {
      "cell_type": "code",
      "metadata": {
        "id": "29Yh34gLuAbb"
      },
      "source": [
        "# Bea\n",
        "\n",
        "root_path = '/content/drive/My Drive/Deep learning a gyakorlatban'"
      ],
      "execution_count": null,
      "outputs": []
    },
    {
      "cell_type": "code",
      "metadata": {
        "id": "KxFY7vXuuCeL"
      },
      "source": [
        "# Adrienn\n",
        "\n",
        "root_path = '/content/drive/My Drive/DL/Deep learning a gyakorlatban'"
      ],
      "execution_count": null,
      "outputs": []
    },
    {
      "cell_type": "code",
      "metadata": {
        "id": "gclgzSs4uF_m"
      },
      "source": [
        "# Viktor\n",
        "\n",
        "root_path = '/content/drive/MyDrive/Egyetem/Deep learning a gyakorlatban'"
      ],
      "execution_count": null,
      "outputs": []
    },
    {
      "cell_type": "code",
      "metadata": {
        "id": "gTVvG59qZger"
      },
      "source": [
        "# Set False if you just want to see the results.\n",
        "# Set True if you want to make changes in the project.\n",
        "developer = False"
      ],
      "execution_count": null,
      "outputs": []
    },
    {
      "cell_type": "code",
      "metadata": {
        "id": "mfouThcPnNzF"
      },
      "source": [
        "# Local variables\n",
        "\n",
        "# Path for metadata\n",
        "metadata = root_path + '/original_files/HAM10000_metadata.csv'\n",
        "\n",
        "# Datasets\n",
        "train_ds = root_path + '/data/new_datasets/train'\n",
        "test_ds = root_path + '/data/new_datasets/test'\n",
        "valid_ds = root_path + '/data/new_datasets/validation'\n",
        "\n",
        "# Checkpoint for effnet\n",
        "checkpoints_effnet = root_path + '/checkpoints/effnet/' + 'bestcheckpoint_{epoch:02d}_{val_loss:.3f}_{val_accuracy:.3f}.hdf5'\n",
        "best_weights_effnet = root_path + '/checkpoints/effnet/'\n",
        "\n",
        "# Checkpoint for inception\n",
        "checkpoints_inception = root_path + '/checkpoints/inception/' + 'bestcheckpoint_{epoch:02d}_{val_loss:.3f}_{val_accuracy:.3f}.hdf5'\n",
        "best_weights_inception = root_path + '/checkpoints/inception/'"
      ],
      "execution_count": null,
      "outputs": []
    },
    {
      "cell_type": "code",
      "metadata": {
        "id": "LnkGYANFr8sq"
      },
      "source": [
        "# Import necessary libs\n",
        "\n",
        "import pandas as pd\n",
        "import os\n",
        "import shutil\n",
        "import seaborn as sns\n",
        "import matplotlib.pyplot as plt\n",
        "import numpy as np\n",
        "from PIL import Image\n",
        "from tqdm import tqdm\n",
        "import cv2\n",
        "import gc\n",
        "from google.colab.patches import cv2_imshow"
      ],
      "execution_count": null,
      "outputs": []
    },
    {
      "cell_type": "code",
      "metadata": {
        "id": "KICHGw720DG5",
        "colab": {
          "base_uri": "https://localhost:8080/",
          "height": 360
        },
        "outputId": "0bbf2b46-eba1-446d-e550-5566e57431ed"
      },
      "source": [
        "# Read csv file to metadata dataframe\n",
        "\n",
        "metadata = pd.read_csv(metadata)\n",
        "print(metadata.shape)\n",
        "metadata.head(10)"
      ],
      "execution_count": null,
      "outputs": [
        {
          "output_type": "stream",
          "text": [
            "(10015, 7)\n"
          ],
          "name": "stdout"
        },
        {
          "output_type": "execute_result",
          "data": {
            "text/html": [
              "<div>\n",
              "<style scoped>\n",
              "    .dataframe tbody tr th:only-of-type {\n",
              "        vertical-align: middle;\n",
              "    }\n",
              "\n",
              "    .dataframe tbody tr th {\n",
              "        vertical-align: top;\n",
              "    }\n",
              "\n",
              "    .dataframe thead th {\n",
              "        text-align: right;\n",
              "    }\n",
              "</style>\n",
              "<table border=\"1\" class=\"dataframe\">\n",
              "  <thead>\n",
              "    <tr style=\"text-align: right;\">\n",
              "      <th></th>\n",
              "      <th>lesion_id</th>\n",
              "      <th>image_id</th>\n",
              "      <th>dx</th>\n",
              "      <th>dx_type</th>\n",
              "      <th>age</th>\n",
              "      <th>sex</th>\n",
              "      <th>localization</th>\n",
              "    </tr>\n",
              "  </thead>\n",
              "  <tbody>\n",
              "    <tr>\n",
              "      <th>0</th>\n",
              "      <td>HAM_0000118</td>\n",
              "      <td>ISIC_0027419</td>\n",
              "      <td>bkl</td>\n",
              "      <td>histo</td>\n",
              "      <td>80.0</td>\n",
              "      <td>male</td>\n",
              "      <td>scalp</td>\n",
              "    </tr>\n",
              "    <tr>\n",
              "      <th>1</th>\n",
              "      <td>HAM_0000118</td>\n",
              "      <td>ISIC_0025030</td>\n",
              "      <td>bkl</td>\n",
              "      <td>histo</td>\n",
              "      <td>80.0</td>\n",
              "      <td>male</td>\n",
              "      <td>scalp</td>\n",
              "    </tr>\n",
              "    <tr>\n",
              "      <th>2</th>\n",
              "      <td>HAM_0002730</td>\n",
              "      <td>ISIC_0026769</td>\n",
              "      <td>bkl</td>\n",
              "      <td>histo</td>\n",
              "      <td>80.0</td>\n",
              "      <td>male</td>\n",
              "      <td>scalp</td>\n",
              "    </tr>\n",
              "    <tr>\n",
              "      <th>3</th>\n",
              "      <td>HAM_0002730</td>\n",
              "      <td>ISIC_0025661</td>\n",
              "      <td>bkl</td>\n",
              "      <td>histo</td>\n",
              "      <td>80.0</td>\n",
              "      <td>male</td>\n",
              "      <td>scalp</td>\n",
              "    </tr>\n",
              "    <tr>\n",
              "      <th>4</th>\n",
              "      <td>HAM_0001466</td>\n",
              "      <td>ISIC_0031633</td>\n",
              "      <td>bkl</td>\n",
              "      <td>histo</td>\n",
              "      <td>75.0</td>\n",
              "      <td>male</td>\n",
              "      <td>ear</td>\n",
              "    </tr>\n",
              "    <tr>\n",
              "      <th>5</th>\n",
              "      <td>HAM_0001466</td>\n",
              "      <td>ISIC_0027850</td>\n",
              "      <td>bkl</td>\n",
              "      <td>histo</td>\n",
              "      <td>75.0</td>\n",
              "      <td>male</td>\n",
              "      <td>ear</td>\n",
              "    </tr>\n",
              "    <tr>\n",
              "      <th>6</th>\n",
              "      <td>HAM_0002761</td>\n",
              "      <td>ISIC_0029176</td>\n",
              "      <td>bkl</td>\n",
              "      <td>histo</td>\n",
              "      <td>60.0</td>\n",
              "      <td>male</td>\n",
              "      <td>face</td>\n",
              "    </tr>\n",
              "    <tr>\n",
              "      <th>7</th>\n",
              "      <td>HAM_0002761</td>\n",
              "      <td>ISIC_0029068</td>\n",
              "      <td>bkl</td>\n",
              "      <td>histo</td>\n",
              "      <td>60.0</td>\n",
              "      <td>male</td>\n",
              "      <td>face</td>\n",
              "    </tr>\n",
              "    <tr>\n",
              "      <th>8</th>\n",
              "      <td>HAM_0005132</td>\n",
              "      <td>ISIC_0025837</td>\n",
              "      <td>bkl</td>\n",
              "      <td>histo</td>\n",
              "      <td>70.0</td>\n",
              "      <td>female</td>\n",
              "      <td>back</td>\n",
              "    </tr>\n",
              "    <tr>\n",
              "      <th>9</th>\n",
              "      <td>HAM_0005132</td>\n",
              "      <td>ISIC_0025209</td>\n",
              "      <td>bkl</td>\n",
              "      <td>histo</td>\n",
              "      <td>70.0</td>\n",
              "      <td>female</td>\n",
              "      <td>back</td>\n",
              "    </tr>\n",
              "  </tbody>\n",
              "</table>\n",
              "</div>"
            ],
            "text/plain": [
              "     lesion_id      image_id   dx dx_type   age     sex localization\n",
              "0  HAM_0000118  ISIC_0027419  bkl   histo  80.0    male        scalp\n",
              "1  HAM_0000118  ISIC_0025030  bkl   histo  80.0    male        scalp\n",
              "2  HAM_0002730  ISIC_0026769  bkl   histo  80.0    male        scalp\n",
              "3  HAM_0002730  ISIC_0025661  bkl   histo  80.0    male        scalp\n",
              "4  HAM_0001466  ISIC_0031633  bkl   histo  75.0    male          ear\n",
              "5  HAM_0001466  ISIC_0027850  bkl   histo  75.0    male          ear\n",
              "6  HAM_0002761  ISIC_0029176  bkl   histo  60.0    male         face\n",
              "7  HAM_0002761  ISIC_0029068  bkl   histo  60.0    male         face\n",
              "8  HAM_0005132  ISIC_0025837  bkl   histo  70.0  female         back\n",
              "9  HAM_0005132  ISIC_0025209  bkl   histo  70.0  female         back"
            ]
          },
          "metadata": {
            "tags": []
          },
          "execution_count": 6
        }
      ]
    },
    {
      "cell_type": "code",
      "metadata": {
        "id": "ft7qOQPB9YTI",
        "colab": {
          "base_uri": "https://localhost:8080/",
          "height": 153
        },
        "outputId": "3e565795-0644-4e6d-8811-2d94e031ef27"
      },
      "source": [
        "# Select melanoma records in metadata\n",
        "\n",
        "melanoma_data = metadata.loc[metadata['dx'] == 'mel']\n",
        "\n",
        "print(melanoma_data.shape)\n",
        "melanoma_data.head(3)"
      ],
      "execution_count": null,
      "outputs": [
        {
          "output_type": "stream",
          "text": [
            "(1113, 7)\n"
          ],
          "name": "stdout"
        },
        {
          "output_type": "execute_result",
          "data": {
            "text/html": [
              "<div>\n",
              "<style scoped>\n",
              "    .dataframe tbody tr th:only-of-type {\n",
              "        vertical-align: middle;\n",
              "    }\n",
              "\n",
              "    .dataframe tbody tr th {\n",
              "        vertical-align: top;\n",
              "    }\n",
              "\n",
              "    .dataframe thead th {\n",
              "        text-align: right;\n",
              "    }\n",
              "</style>\n",
              "<table border=\"1\" class=\"dataframe\">\n",
              "  <thead>\n",
              "    <tr style=\"text-align: right;\">\n",
              "      <th></th>\n",
              "      <th>lesion_id</th>\n",
              "      <th>image_id</th>\n",
              "      <th>dx</th>\n",
              "      <th>dx_type</th>\n",
              "      <th>age</th>\n",
              "      <th>sex</th>\n",
              "      <th>localization</th>\n",
              "    </tr>\n",
              "  </thead>\n",
              "  <tbody>\n",
              "    <tr>\n",
              "      <th>1211</th>\n",
              "      <td>HAM_0000871</td>\n",
              "      <td>ISIC_0025964</td>\n",
              "      <td>mel</td>\n",
              "      <td>histo</td>\n",
              "      <td>40.0</td>\n",
              "      <td>female</td>\n",
              "      <td>chest</td>\n",
              "    </tr>\n",
              "    <tr>\n",
              "      <th>1212</th>\n",
              "      <td>HAM_0000871</td>\n",
              "      <td>ISIC_0030623</td>\n",
              "      <td>mel</td>\n",
              "      <td>histo</td>\n",
              "      <td>40.0</td>\n",
              "      <td>female</td>\n",
              "      <td>chest</td>\n",
              "    </tr>\n",
              "    <tr>\n",
              "      <th>1213</th>\n",
              "      <td>HAM_0000040</td>\n",
              "      <td>ISIC_0027190</td>\n",
              "      <td>mel</td>\n",
              "      <td>histo</td>\n",
              "      <td>80.0</td>\n",
              "      <td>male</td>\n",
              "      <td>upper extremity</td>\n",
              "    </tr>\n",
              "  </tbody>\n",
              "</table>\n",
              "</div>"
            ],
            "text/plain": [
              "        lesion_id      image_id   dx dx_type   age     sex     localization\n",
              "1211  HAM_0000871  ISIC_0025964  mel   histo  40.0  female            chest\n",
              "1212  HAM_0000871  ISIC_0030623  mel   histo  40.0  female            chest\n",
              "1213  HAM_0000040  ISIC_0027190  mel   histo  80.0    male  upper extremity"
            ]
          },
          "metadata": {
            "tags": []
          },
          "execution_count": 7
        }
      ]
    },
    {
      "cell_type": "code",
      "metadata": {
        "id": "caiNdgRIbG1D"
      },
      "source": [
        "# Find and delete duplicated images\n",
        "if developer:\n",
        "    \n",
        "  sum = 0\n",
        "  dir = ''\n",
        "  for filename in tqdm(os.listdir(dir)):\n",
        "      if (filename.find(\"(\")) != -1:\n",
        "          os.remove(dir + \"/\" + filename)\n",
        "          sum += 1\n",
        "  sum"
      ],
      "execution_count": null,
      "outputs": []
    },
    {
      "cell_type": "code",
      "metadata": {
        "id": "2EGwOdP1JNJ1",
        "colab": {
          "base_uri": "https://localhost:8080/"
        },
        "outputId": "bcf4f017-0d9a-4291-cfed-1baee38ce36e"
      },
      "source": [
        "# Count melanoma datas in metadata\n",
        "\n",
        "sum = 0\n",
        "for ind in metadata.index:  \n",
        "     if metadata['dx'][ind] == 'mel':\n",
        "         sum = sum + 1\n",
        "print(sum)"
      ],
      "execution_count": null,
      "outputs": [
        {
          "output_type": "stream",
          "text": [
            "1113\n"
          ],
          "name": "stdout"
        }
      ]
    },
    {
      "cell_type": "code",
      "metadata": {
        "id": "Bf9nLHbRKaJQ"
      },
      "source": [
        "# Separate melanoma jpg files from other\n",
        "if developer:\n",
        "    \n",
        "  for filename in os.listdir(others_images_path):\n",
        "      id = os.path.splitext(filename)[0]\n",
        "      for i in melanoma_data.index:\n",
        "          if melanoma_data['image_id'][i] == id:\n",
        "              shutil.move(others_images_path + '/' + filename, melanoma_images_path)\n"
      ],
      "execution_count": null,
      "outputs": []
    },
    {
      "cell_type": "code",
      "metadata": {
        "id": "m4TwS3b6HngR",
        "colab": {
          "base_uri": "https://localhost:8080/"
        },
        "outputId": "6d4036fa-f6ca-4bdf-ad21-a9c5d9ce524a"
      },
      "source": [
        "# Count jpg files in directory\n",
        "if developer:\n",
        "\n",
        "  dir = ''\n",
        "  sum = 0\n",
        "  for filename in os.listdir(dir):\n",
        "    if filename.endswith(\".jpg\"): \n",
        "        sum = sum + 1\n",
        "  print(sum)"
      ],
      "execution_count": null,
      "outputs": [
        {
          "output_type": "stream",
          "text": [
            "3564\n"
          ],
          "name": "stdout"
        }
      ]
    },
    {
      "cell_type": "code",
      "metadata": {
        "id": "rWPgiOUITPOU"
      },
      "source": [
        "# Count melanoma jpg files in directory\n",
        "if developer:\n",
        "\n",
        "  dir = ''\n",
        "  sum = 0\n",
        "  for filename in os.listdir(dir):\n",
        "      id = os.path.splitext(filename)[0]\n",
        "      for i in melanoma_data.index:\n",
        "          if melanoma_data['image_id'][i] == id:\n",
        "              sum = sum + 1\n",
        "  print(sum)"
      ],
      "execution_count": null,
      "outputs": []
    },
    {
      "cell_type": "code",
      "metadata": {
        "id": "4ElhrItlxc5u",
        "colab": {
          "base_uri": "https://localhost:8080/"
        },
        "outputId": "a5be4075-0665-48bf-ac0a-6a46f27a4ae3"
      },
      "source": [
        "# Create balanced datasets with data augmentation\n",
        "if developer:\n",
        "\n",
        "  # To generate names for the images\n",
        "  def formatter(prefix, suffix):\n",
        "    if suffix < 1000:\n",
        "      prefix = prefix + '0'\n",
        "    if suffix < 100:\n",
        "      prefix = prefix + '0'\n",
        "    if suffix < 10:\n",
        "      prefix = prefix + '0'\n",
        "    return prefix + str(suffix) + \".jpg\"\n",
        "\n",
        "  # Melanoma images\n",
        "  dir = root_path + '/data/images/melanoma'\n",
        "  dst = root_path + '/data/new_images/melanoma/'\n",
        "  index = 0\n",
        "  for filename in tqdm(os.listdir(dir)):\n",
        "    src = dir + \"/\" + filename\n",
        "    if index < 111:\n",
        "       shutil.copy(src, dst + formatter(\"melanoma_\", index))\n",
        "    elif index < 222:\n",
        "       shutil.copy(src, dst + formatter(\"melanoma_\", index))\n",
        "    else:\n",
        "      # Rotate images\n",
        "       img = cv2.imread(src)\n",
        "       img_horizontal = cv2.flip(img, 0)\n",
        "       img_vertical = cv2.flip(img, 1)\n",
        "       img_horizontal_vertical = cv2.flip(img, -1)\n",
        "       # Save images\n",
        "       cv2.imwrite(dst + formatter(\"melanoma_\", index), img)\n",
        "       cv2.imwrite(dst + formatter(\"melanoma_\", index+1), img_horizontal)\n",
        "       cv2.imwrite(dst + formatter(\"melanoma_\", index+2), img_vertical)\n",
        "       cv2.imwrite(dst + formatter(\"melanoma_\", index+3), img_horizontal_vertical)\n",
        "       index += 3\n",
        "    index += 1\n",
        "\n",
        "  # Others images\n",
        "  dir = root_path + '/images/others'\n",
        "  prefix = root_path + '/data/new_images/others/'\n",
        "  index = 0\n",
        "  for filename in tqdm(os.listdir(dir)[:3786]):\n",
        "      src = dir + \"/\" + filename\n",
        "      shutil.copy(src, prefix + formatter(\"others_\", index))\n",
        "      index += 1"
      ],
      "execution_count": null,
      "outputs": [
        {
          "output_type": "stream",
          "text": [
            "100%|██████████| 3786/3786 [20:02<00:00,  3.15it/s]\n"
          ],
          "name": "stderr"
        }
      ]
    },
    {
      "cell_type": "code",
      "metadata": {
        "colab": {
          "base_uri": "https://localhost:8080/"
        },
        "id": "3vj1cE_j1v3e",
        "outputId": "0e250793-7dd8-4133-c8c0-2aeca2db4262"
      },
      "source": [
        "# Separate melanoma images\n",
        "if developer:\n",
        "\n",
        "  dir = root_path + '/data/new_images/melanoma'\n",
        "  dst_root = root_path + '/data/new_datasets/'\n",
        "  index = 0\n",
        "\n",
        "  for filename in tqdm(os.listdir(dir)):\n",
        "    src = dir + \"/\" + filename\n",
        "    if index < 111:\n",
        "        shutil.copy(src, dst + \"test/melanoma/\")\n",
        "    elif index < 222:\n",
        "        shutil.copy(src, dst + \"validation/melanoma/\")\n",
        "    else:\n",
        "        shutil.copy(src, dst + \"train/melanoma/\")\n",
        "    index += 1"
      ],
      "execution_count": null,
      "outputs": [
        {
          "output_type": "stream",
          "text": [
            "100%|██████████| 3786/3786 [00:44<00:00, 84.43it/s]\n"
          ],
          "name": "stderr"
        }
      ]
    },
    {
      "cell_type": "code",
      "metadata": {
        "colab": {
          "base_uri": "https://localhost:8080/"
        },
        "id": "TrSjN5Eb4BO9",
        "outputId": "70e8481d-4380-4f08-d958-27e295d89acf"
      },
      "source": [
        "# Separate others images\n",
        "if developer:\n",
        "    \n",
        "  dir = root_path + '/data/new_images/others'\n",
        "  dst_root = root_path + '/data/new_datasets/'\n",
        "  index = 0\n",
        "\n",
        "  for filename in tqdm(os.listdir(dir)):\n",
        "    src = dir + \"/\" + filename\n",
        "    if index < 111:\n",
        "        shutil.copy(src, dst + \"test/others/\")\n",
        "    elif index < 222:\n",
        "        shutil.copy(src, dst + \"validation/others/\")\n",
        "    else:\n",
        "        shutil.copy(src, dst + \"train/others/\")\n",
        "    index += 1"
      ],
      "execution_count": null,
      "outputs": [
        {
          "output_type": "stream",
          "text": [
            "100%|██████████| 3786/3786 [01:01<00:00, 61.43it/s]\n"
          ],
          "name": "stderr"
        }
      ]
    },
    {
      "cell_type": "code",
      "metadata": {
        "id": "wZixlDE10q_n",
        "colab": {
          "base_uri": "https://localhost:8080/"
        },
        "outputId": "3417a9f4-4bf7-4b2a-ba77-40dd48a87e03"
      },
      "source": [
        "# Check dx attribute\n",
        "\n",
        "print(\"dx:\")\n",
        "dx = metadata['dx']\n",
        "dx.value_counts()"
      ],
      "execution_count": null,
      "outputs": [
        {
          "output_type": "stream",
          "text": [
            "dx:\n"
          ],
          "name": "stdout"
        },
        {
          "output_type": "execute_result",
          "data": {
            "text/plain": [
              "nv       6705\n",
              "mel      1113\n",
              "bkl      1099\n",
              "bcc       514\n",
              "akiec     327\n",
              "vasc      142\n",
              "df        115\n",
              "Name: dx, dtype: int64"
            ]
          },
          "metadata": {
            "tags": []
          },
          "execution_count": 10
        }
      ]
    },
    {
      "cell_type": "code",
      "metadata": {
        "id": "hh-JhQC95E3Z",
        "colab": {
          "base_uri": "https://localhost:8080/",
          "height": 364
        },
        "outputId": "09bb9d91-fd40-42a2-8d8a-3611c9c2aa7e"
      },
      "source": [
        "# Visualize dataset\n",
        "\n",
        "fig = plt.figure()\n",
        "sns.set(style='darkgrid', context='notebook', palette='gray')\n",
        "fig, ax = plt.subplots(1,2, figsize=(15,5))\n",
        "sns.countplot(dx, ax=ax[0])\n",
        "sns.countplot(dx_type, ax=ax[1])"
      ],
      "execution_count": null,
      "outputs": [
        {
          "output_type": "stream",
          "text": [
            "/usr/local/lib/python3.6/dist-packages/seaborn/_decorators.py:43: FutureWarning: Pass the following variable as a keyword arg: x. From version 0.12, the only valid positional argument will be `data`, and passing other arguments without an explicit keyword will result in an error or misinterpretation.\n",
            "  FutureWarning\n",
            "/usr/local/lib/python3.6/dist-packages/seaborn/_decorators.py:43: FutureWarning: Pass the following variable as a keyword arg: x. From version 0.12, the only valid positional argument will be `data`, and passing other arguments without an explicit keyword will result in an error or misinterpretation.\n",
            "  FutureWarning\n"
          ],
          "name": "stderr"
        },
        {
          "output_type": "execute_result",
          "data": {
            "text/plain": [
              "<matplotlib.axes._subplots.AxesSubplot at 0x7f2676d80a90>"
            ]
          },
          "metadata": {
            "tags": []
          },
          "execution_count": 17
        },
        {
          "output_type": "display_data",
          "data": {
            "text/plain": [
              "<Figure size 432x288 with 0 Axes>"
            ]
          },
          "metadata": {
            "tags": []
          }
        },
        {
          "output_type": "display_data",
          "data": {
            "image/png": "[encoded data removed]",
            "text/plain": [
              "<Figure size 1080x360 with 2 Axes>"
            ]
          },
          "metadata": {
            "tags": []
          }
        }
      ]
    },
    {
      "cell_type": "code",
      "metadata": {
        "id": "wIn5Z_jILDC5",
        "colab": {
          "base_uri": "https://localhost:8080/"
        },
        "outputId": "d7c97431-0332-4023-b42b-420744da1c88"
      },
      "source": [
        "# Import necessary libs\n",
        "\n",
        "import tensorflow as tf\n",
        "from tensorflow import keras\n",
        "from keras.models import Sequential\n",
        "from keras.layers import Conv2D,Dense,Dropout\n",
        "from keras.layers.normalization import BatchNormalization\n",
        "from keras.regularizers import l2\n",
        "from keras import optimizers\n",
        "from keras.preprocessing.image import ImageDataGenerator\n",
        "\n",
        "!pip install -U efficientnet\n",
        "from keras import layers\n",
        "import efficientnet.keras as efn\n",
        "from keras import regularizers\n",
        "from keras.callbacks import EarlyStopping\n",
        "from tensorflow.keras.callbacks import ReduceLROnPlateau\n",
        "from tensorflow.keras.utils import plot_model\n",
        "from tensorflow.keras.models import Model\n",
        "from tensorflow.keras.layers import Dense, GlobalAveragePooling2D\n",
        "from keras import applications"
      ],
      "execution_count": null,
      "outputs": [
        {
          "output_type": "stream",
          "text": [
            "Requirement already up-to-date: efficientnet in /usr/local/lib/python3.6/dist-packages (1.1.1)\n",
            "Requirement already satisfied, skipping upgrade: scikit-image in /usr/local/lib/python3.6/dist-packages (from efficientnet) (0.16.2)\n",
            "Requirement already satisfied, skipping upgrade: keras-applications<=1.0.8,>=1.0.7 in /usr/local/lib/python3.6/dist-packages (from efficientnet) (1.0.8)\n",
            "Requirement already satisfied, skipping upgrade: matplotlib!=3.0.0,>=2.0.0 in /usr/local/lib/python3.6/dist-packages (from scikit-image->efficientnet) (3.2.2)\n",
            "Requirement already satisfied, skipping upgrade: imageio>=2.3.0 in /usr/local/lib/python3.6/dist-packages (from scikit-image->efficientnet) (2.4.1)\n",
            "Requirement already satisfied, skipping upgrade: pillow>=4.3.0 in /usr/local/lib/python3.6/dist-packages (from scikit-image->efficientnet) (7.0.0)\n",
            "Requirement already satisfied, skipping upgrade: scipy>=0.19.0 in /usr/local/lib/python3.6/dist-packages (from scikit-image->efficientnet) (1.4.1)\n",
            "Requirement already satisfied, skipping upgrade: PyWavelets>=0.4.0 in /usr/local/lib/python3.6/dist-packages (from scikit-image->efficientnet) (1.1.1)\n",
            "Requirement already satisfied, skipping upgrade: networkx>=2.0 in /usr/local/lib/python3.6/dist-packages (from scikit-image->efficientnet) (2.5)\n",
            "Requirement already satisfied, skipping upgrade: h5py in /usr/local/lib/python3.6/dist-packages (from keras-applications<=1.0.8,>=1.0.7->efficientnet) (2.10.0)\n",
            "Requirement already satisfied, skipping upgrade: numpy>=1.9.1 in /usr/local/lib/python3.6/dist-packages (from keras-applications<=1.0.8,>=1.0.7->efficientnet) (1.18.5)\n",
            "Requirement already satisfied, skipping upgrade: kiwisolver>=1.0.1 in /usr/local/lib/python3.6/dist-packages (from matplotlib!=3.0.0,>=2.0.0->scikit-image->efficientnet) (1.3.1)\n",
            "Requirement already satisfied, skipping upgrade: python-dateutil>=2.1 in /usr/local/lib/python3.6/dist-packages (from matplotlib!=3.0.0,>=2.0.0->scikit-image->efficientnet) (2.8.1)\n",
            "Requirement already satisfied, skipping upgrade: cycler>=0.10 in /usr/local/lib/python3.6/dist-packages (from matplotlib!=3.0.0,>=2.0.0->scikit-image->efficientnet) (0.10.0)\n",
            "Requirement already satisfied, skipping upgrade: pyparsing!=2.0.4,!=2.1.2,!=2.1.6,>=2.0.1 in /usr/local/lib/python3.6/dist-packages (from matplotlib!=3.0.0,>=2.0.0->scikit-image->efficientnet) (2.4.7)\n",
            "Requirement already satisfied, skipping upgrade: decorator>=4.3.0 in /usr/local/lib/python3.6/dist-packages (from networkx>=2.0->scikit-image->efficientnet) (4.4.2)\n",
            "Requirement already satisfied, skipping upgrade: six in /usr/local/lib/python3.6/dist-packages (from h5py->keras-applications<=1.0.8,>=1.0.7->efficientnet) (1.15.0)\n"
          ],
          "name": "stdout"
        }
      ]
    },
    {
      "cell_type": "code",
      "metadata": {
        "id": "tGfM4ClTQnw4"
      },
      "source": [
        "# Set 0 if you want to use EfficientNet based model.\n",
        "# Set 1 if you want to use InceptionV3 based mofel.\n",
        "model_id = 0"
      ],
      "execution_count": null,
      "outputs": []
    },
    {
      "cell_type": "code",
      "metadata": {
        "id": "eYvr_imgaiQw",
        "colab": {
          "base_uri": "https://localhost:8080/"
        },
        "outputId": "b7549d42-f0f6-4e94-a733-e5e065099ff7"
      },
      "source": [
        "#-------------------------------------------------------------------------------------------------------------\n",
        "#-------------------------------------------------------------------------------------------------------------\n",
        "#------------------------------------------- LOAD DATA -------------------------------------------------------\n",
        "#-------------------------------------------------------------------------------------------------------------\n",
        "#-------------------------------------------------------------------------------------------------------------\n",
        "# Load data in batches with an ImageDataGenerator\n",
        "\n",
        "datagen_train = ImageDataGenerator(\n",
        "                    featurewise_center=False, \n",
        "                    samplewise_center=False,\n",
        "                    featurewise_std_normalization=False, \n",
        "                    samplewise_std_normalization=False,\n",
        "                    zca_whitening=False, \n",
        "                    rotation_range=40,\n",
        "                    width_shift_range=0.1,\n",
        "                    height_shift_range=0.1,\n",
        "                    brightness_range=None, \n",
        "                    shear_range=0.2,\n",
        "                    zoom_range=0.2,\n",
        "                    channel_shift_range=0.0, \n",
        "                    fill_mode='nearest', \n",
        "                    cval=0.0, \n",
        "                    horizontal_flip=False,\n",
        "                    vertical_flip=False,\n",
        "                    rescale=1.0/255.0, \n",
        "                    preprocessing_function=None,\n",
        "                    data_format=None, \n",
        "                    validation_split=0.0, \n",
        "                    dtype=None)\n",
        "\n",
        "datagen_test = ImageDataGenerator(\n",
        "                    rescale=1.0/255.0)\n",
        "\n",
        "# Shape of the images (lxl)\n",
        "if model_id is 0:\n",
        "  l = 224\n",
        "else:\n",
        "  l = 299\n",
        "\n",
        "# Iterators for each dataset\n",
        "train_it = datagen_train.flow_from_directory(train_ds, class_mode='binary', batch_size=16, target_size= (l, l))\n",
        "val_it = datagen_test.flow_from_directory(valid_ds, class_mode='binary', batch_size=16, target_size= (l, l))\n",
        "test_it = datagen_test.flow_from_directory(test_ds, class_mode='binary',batch_size=16, target_size=(l, l))\n",
        "\n",
        "batchX, batchy = train_it.next()\n",
        "print('Batch shape=%s, min=%.3f, max=%.3f' % (batchX.shape, batchX.min(), batchX.max()))"
      ],
      "execution_count": null,
      "outputs": [
        {
          "output_type": "stream",
          "text": [
            "Found 7128 images belonging to 2 classes.\n",
            "Found 222 images belonging to 2 classes.\n",
            "Found 222 images belonging to 2 classes.\n",
            "Batch shape=(16, 299, 299, 3), min=0.000, max=1.000\n"
          ],
          "name": "stdout"
        }
      ]
    },
    {
      "cell_type": "code",
      "metadata": {
        "id": "rLEc56G9V5T3"
      },
      "source": [
        "# Build the model\n",
        "\n",
        "if model_id == 0: \n",
        "  base_model = efn.EfficientNetB0(weights='imagenet', include_top=False, input_shape=(224, 224, 3))\n",
        "else: \n",
        "  base_model = InceptionV3(weights='imagenet', include_top=False, input_shape=(299, 299, 3))\n",
        "\n",
        "model = base_model.output\n",
        "model = GlobalAveragePooling2D()(model)\n",
        "model = Dense(128, activation='relu')(model)\n",
        "predictions = Dense(1, activation='sigmoid')(model)\n",
        "model = Model(inputs=base_model.input, outputs=predictions)\n",
        "\n",
        "# Unfreeze the layers\n",
        "for layer in model.layers[0:]:\n",
        "layer.trainable = True\n",
        "\n",
        "# Set learning rate\n",
        "if model_id == 0:\n",
        "  my_lr = 0.0001\n",
        "else:\n",
        "  my_lr = 0.00001\n",
        "\n",
        "optimizer=optimizers.Adam(lr=my_lr)\n",
        "model.compile(optimizer=optimizer,loss=\"binary_crossentropy\", metrics=['accuracy']) "
      ],
      "execution_count": null,
      "outputs": []
    },
    {
      "cell_type": "code",
      "metadata": {
        "id": "9DHpwcDEL9cG"
      },
      "source": [
        "# Visualizing the model \n",
        "\n",
        "plot_model(model, to_file='model_plot.png', show_shapes=True, show_layer_names=True)"
      ],
      "execution_count": null,
      "outputs": []
    },
    {
      "cell_type": "code",
      "metadata": {
        "id": "bkDGXui9IDfw"
      },
      "source": [
        "# Callback functions\n",
        "\n",
        "# Earlystop\n",
        "earlystop_callback = EarlyStopping(monitor = 'val_loss',\n",
        "                          min_delta = 0,\n",
        "                          patience = 3,\n",
        "                          verbose = 1,\n",
        "                          restore_best_weights = True)\n",
        "\n",
        "# Save the most accurate model's weights\n",
        "if model_id == 0: cp = checkpoints_effnet\n",
        "else: cp = checkpoints_inception\n",
        "checkpoint_callback = tf.keras.callbacks.ModelCheckpoint(\n",
        "                          filepath=cp,\n",
        "                          save_weights_only=True,\n",
        "                          monitor='val_accuracy',\n",
        "                          mode='max',\n",
        "                          save_best_only=True)\n",
        "\n",
        "# Modify LR during train\n",
        "lr_callback = ReduceLROnPlateau(monitor='val_accuracy', factor=0.2, patience=3, min_lr=0.000005)"
      ],
      "execution_count": null,
      "outputs": []
    },
    {
      "cell_type": "code",
      "metadata": {
        "id": "xR812y0bH-pb"
      },
      "source": [
        "# Train the model\n",
        "\n",
        "my_callbacks = [\n",
        "                earlystop_callback,\n",
        "                checkpoint_callback,\n",
        "                # lr_callback\n",
        "]\n",
        "\n",
        "h = model.fit(train_it, epochs = 50, validation_data = val_it, callbacks = my_callbacks, shuffle = True, steps_per_epoch = 100)"
      ],
      "execution_count": null,
      "outputs": []
    },
    {
      "cell_type": "code",
      "metadata": {
        "colab": {
          "base_uri": "https://localhost:8080/"
        },
        "id": "NXGpXhbHLj6P",
        "outputId": "f1d901b1-2e5a-40b6-8f2d-47411e67fa2b"
      },
      "source": [
        "# Load the model\n",
        "\n",
        "if model_id == 0:\n",
        "  dir = best_weights_effnet\n",
        "else:\n",
        "  dir = best_weights_inception\n",
        "\n",
        "if len(os.listdir(dir)) == 0:\n",
        "  print(\"There are no previous checkpoints. Make sure you use the correct directory.\")\n",
        "else:\n",
        "  filename = os.listdir(dir)[-1]\n",
        "  best_weight = dir + filename\n",
        "  print(best_weight)\n",
        "  model.load_weights(best_weight)"
      ],
      "execution_count": null,
      "outputs": [
        {
          "output_type": "stream",
          "text": [
            "/content/drive/MyDrive/Egyetem/Deep learning a gyakorlatban/checkpoints/effnet/bestcheckpoint_10_0.375_0.847.hdf5\n"
          ],
          "name": "stdout"
        }
      ]
    },
    {
      "cell_type": "code",
      "metadata": {
        "id": "Y3eIdxIRMj75",
        "colab": {
          "base_uri": "https://localhost:8080/"
        },
        "outputId": "3432db62-cdbe-4f0e-d356-57d73c2780be"
      },
      "source": [
        "# Evaluate the model \n",
        "\n",
        "results = model.evaluate(test_it, batch_size=16)\n",
        "print(\"Test loss: {:.4f}\".format(results[0]))\n",
        "print(\"Test accuracy: {:.4f}\".format(results[1]))"
      ],
      "execution_count": null,
      "outputs": [
        {
          "output_type": "stream",
          "text": [
            "14/14 [==============================] - 3s 183ms/step - loss: 0.3056 - accuracy: 0.8874\n",
            "Test loss: 0.3056\n",
            "Test accuracy: 0.8874\n"
          ],
          "name": "stdout"
        }
      ]
    },
    {
      "cell_type": "code",
      "metadata": {
        "id": "PDcssmwhMJ83",
        "colab": {
          "base_uri": "https://localhost:8080/",
          "height": 298
        },
        "outputId": "0d1de615-4527-4ac3-dc76-6fa1cf31c468"
      },
      "source": [
        "# Plotting train loss and validation loss\n",
        "\n",
        "plt.figure()\n",
        "plt.plot(h.history['loss'],color=\"olive\", label='loss')\n",
        "plt.plot(h.history['val_loss'], color=\"plum\", label='validation loss')\n",
        "plt.legend(loc='best')\n",
        "plt.title(label=\"Loss and Validation Loss\")"
      ],
      "execution_count": null,
      "outputs": [
        {
          "output_type": "execute_result",
          "data": {
            "text/plain": [
              "Text(0.5, 1.0, 'Loss and Validation Loss')"
            ]
          },
          "metadata": {
            "tags": []
          },
          "execution_count": 107
        },
        {
          "output_type": "display_data",
          "data": {
            "image/png": "[encoded data removed]",
            "text/plain": [
              "<Figure size 432x288 with 1 Axes>"
            ]
          },
          "metadata": {
            "tags": [],
            "needs_background": "light"
          }
        }
      ]
    },
    {
      "cell_type": "code",
      "metadata": {
        "id": "9ziKr28gMPxk",
        "colab": {
          "base_uri": "https://localhost:8080/",
          "height": 298
        },
        "outputId": "68d4dda6-a999-4578-feda-3747c2744edb"
      },
      "source": [
        "# Plotting train accuracy and validation accuracy\n",
        "\n",
        "plt.figure()\n",
        "plt.plot(h.history['accuracy'],color=\"mediumspringgreen\", label='accuracy')\n",
        "plt.plot(h.history['val_accuracy'], color=\"black\", label='validation accuracy')\n",
        "plt.legend(loc='best')\n",
        "plt.title(label=\"Accuracy and Validation Accuracy\")"
      ],
      "execution_count": null,
      "outputs": [
        {
          "output_type": "execute_result",
          "data": {
            "text/plain": [
              "Text(0.5, 1.0, 'Accuracy and Validation Accuracy')"
            ]
          },
          "metadata": {
            "tags": []
          },
          "execution_count": 108
        },
        {
          "output_type": "display_data",
          "data": {
            "image/png": "[encoded data removed]",
            "text/plain": [
              "<Figure size 432x288 with 1 Axes>"
            ]
          },
          "metadata": {
            "tags": [],
            "needs_background": "light"
          }
        }
      ]
    }
  ]
}